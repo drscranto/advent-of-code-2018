{
 "cells": [
  {
   "cell_type": "code",
   "execution_count": 3,
   "metadata": {},
   "outputs": [],
   "source": [
    "\n",
    "raw.stars = read.table(\"day_10_input.txt\", stringsAsFactors=FALSE,sep=\">\", header=FALSE)\n",
    "\n",
    "star.pos.split1 <- strsplit(raw.stars[,1],\",\")\n",
    "star.pos.y <- unlist(lapply(star.pos.split1, function(x) as.numeric(x[2])))\n",
    "star.pos.x <- unlist(lapply(star.pos.split1,function(x) as.numeric(strsplit(x[1],\"<\")[[1]][2])))\n",
    "star.pos.split2 <- strsplit(raw.stars[,2],\",\")\n",
    "star.vel.y <- unlist(lapply(star.pos.split2, function(x) as.numeric(x[2])))\n",
    "star.vel.x <- unlist(lapply(star.pos.split2,function(x) as.numeric(strsplit(x[1],\"<\")[[1]][2])))\n",
    "    "
   ]
  },
  {
   "cell_type": "code",
   "execution_count": null,
   "metadata": {},
   "outputs": [],
   "source": [
    "## for t in 1:100000\n",
    "## save plot if max(star.pos.y) - min(star.pos.y) < 500\n",
    "\n",
    "## find plot \n",
    "## zoom in"
   ]
  },
  {
   "cell_type": "code",
   "execution_count": 4,
   "metadata": {},
   "outputs": [
    {
     "data": {
      "text/html": [
       "<strong>pdf:</strong> 2"
      ],
      "text/latex": [
       "\\textbf{pdf:} 2"
      ],
      "text/markdown": [
       "**pdf:** 2"
      ],
      "text/plain": [
       "pdf \n",
       "  2 "
      ]
     },
     "metadata": {},
     "output_type": "display_data"
    }
   ],
   "source": [
    "t.end <- 10036\n",
    "for (t.step in 1:t.end){\n",
    "    star.pos.x <- star.pos.x + star.vel.x\n",
    "    star.pos.y <- star.pos.y + star.vel.y\n",
    "} \n",
    "tiff(paste0(\"time\",t.step,\".tiff\"),height=2000,width=2000)\n",
    "par(cex=1.5)\n",
    "plot(star.pos.x,-1*star.pos.y,pch=19,xlim=c(0,500), ylim=c(-500,0))\n",
    "dev.off()"
   ]
  },
  {
   "cell_type": "code",
   "execution_count": null,
   "metadata": {},
   "outputs": [],
   "source": []
  },
  {
   "cell_type": "code",
   "execution_count": null,
   "metadata": {},
   "outputs": [],
   "source": []
  }
 ],
 "metadata": {
  "kernelspec": {
   "display_name": "R",
   "language": "R",
   "name": "ir"
  },
  "language_info": {
   "codemirror_mode": "r",
   "file_extension": ".r",
   "mimetype": "text/x-r-source",
   "name": "R",
   "pygments_lexer": "r",
   "version": "3.5.1"
  }
 },
 "nbformat": 4,
 "nbformat_minor": 2
}
