{
 "cells": [
  {
   "cell_type": "code",
   "execution_count": null,
   "metadata": {},
   "outputs": [],
   "source": [
    "## PART ONE\n",
    "\n",
    "# define each cell's power level \n",
    "# where i,j are row,col index of cell\n",
    "get.power.level <- function(i,j,grid.serial){\n",
    "    rack.id <- i+10\n",
    "    power.level <- rack.id*j + grid.serial\n",
    "    power.level <- power.level*rack.id\n",
    "\n",
    "    new.power <- floor(power.level/100) - floor(power.level/1000)*10\n",
    "    new.power <- new.power - 5\n",
    "    return(new.power)\n",
    "}\n"
   ]
  },
  {
   "cell_type": "code",
   "execution_count": null,
   "metadata": {},
   "outputs": [],
   "source": [
    "puzzle.input <- 7857\n",
    "\n",
    "# get each cell's power level\n",
    "fuel.cells <- matrix(0,300,300)\n",
    "for (i in 1:300){\n",
    "    for (j in 1:300){\n",
    "        fuel.cells[i,j] <- get.power.level(i,j,puzzle.input)\n",
    "    }\n",
    "}"
   ]
  },
  {
   "cell_type": "code",
   "execution_count": null,
   "metadata": {},
   "outputs": [],
   "source": [
    "# choose 3by3 subset with largest sum power level\n",
    "sum.cells <- matrix(0,300,300)\n",
    "for (i in 1:298){\n",
    "    for (j in 1:298){\n",
    "        sum.cells[i,j] <- sum(fuel.cells[i:(i+2),j:(j+2)])\n",
    "    }\n",
    "}"
   ]
  },
  {
   "cell_type": "code",
   "execution_count": null,
   "metadata": {},
   "outputs": [],
   "source": [
    "which(sum.cells==sum.cells[which.max(sum.cells)], arr.ind=TRUE)"
   ]
  },
  {
   "cell_type": "code",
   "execution_count": null,
   "metadata": {},
   "outputs": [],
   "source": [
    "## PART TWO\n",
    "\n",
    "max.grid.sum <- function(grid.size,g.fuel.cells){\n",
    "    \n",
    "    grid.m <- grid.size-1\n",
    "    \n",
    "    sum.cells <- matrix(0,300,300)\n",
    "    for (i in 1:(300 - grid.m)){\n",
    "        for (j in 1:(300 - grid.m)){\n",
    "            sum.cells[i,j] <- sum(g.fuel.cells[i:(i+grid.m),j:(j+grid.m)])\n",
    "        }\n",
    "    }\n",
    "    \n",
    "    max.ind <- arrayInd(which.max(sum.cells),dim(sum.cells))\n",
    "    \n",
    "    return(list(sum.cells[which.max(sum.cells)],max.ind,grid.size))\n",
    "    \n",
    "}"
   ]
  },
  {
   "cell_type": "code",
   "execution_count": null,
   "metadata": {},
   "outputs": [],
   "source": [
    "grid.end <- 300\n",
    "\n",
    "sums.by.grid.size <- matrix(unlist(lapply(1:grid.end,max.grid.sum,g.fuel.cells=fuel.cells)),grid.end,4,byrow=TRUE)\n",
    "\n",
    "sums.by.grid.size[which.max(sums.by.grid.size[,1]),]"
   ]
  },
  {
   "cell_type": "code",
   "execution_count": null,
   "metadata": {},
   "outputs": [],
   "source": []
  }
 ],
 "metadata": {
  "kernelspec": {
   "display_name": "R",
   "language": "R",
   "name": "ir"
  },
  "language_info": {
   "codemirror_mode": "r",
   "file_extension": ".r",
   "mimetype": "text/x-r-source",
   "name": "R",
   "pygments_lexer": "r",
   "version": "3.5.1"
  }
 },
 "nbformat": 4,
 "nbformat_minor": 2
}
